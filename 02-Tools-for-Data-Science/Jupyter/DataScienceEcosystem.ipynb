{
 "cells": [
  {
   "cell_type": "markdown",
   "id": "615c2e0d-0c4c-413d-ae89-2862f6bf6941",
   "metadata": {},
   "source": [
    "# Data Science Tools and Ecosystem"
   ]
  },
  {
   "cell_type": "markdown",
   "id": "98ef2c6f-64e1-4d7a-92d2-ca9daee114b8",
   "metadata": {},
   "source": [
    "In this notebook, Data Science Tools and Ecosystem are summarized."
   ]
  },
  {
   "cell_type": "markdown",
   "id": "ac392c3f-7dea-44ef-babb-e2515b81a785",
   "metadata": {},
   "source": [
    "**Objectives:**\n",
    "\n",
    "- List popular languages for Data Science\n",
    "- List commonly used libraries in Data Science\n",
    "- List of Most Used Data Science Tools\n",
    "- Perform arithmetic operations in Python\n",
    "- Convert minutes to hours using Python"
   ]
  },
  {
   "cell_type": "markdown",
   "id": "ffe875fa-2ea1-4090-8003-e333c605c0a0",
   "metadata": {},
   "source": [
    "Some of the popular languages that Data Scientists use are:\n",
    "1. Python\n",
    "2. R\n",
    "3. SQL"
   ]
  },
  {
   "cell_type": "markdown",
   "id": "0e57c316-1c7c-48dc-8325-f56e1e1cab2c",
   "metadata": {},
   "source": [
    "Some of the commonly used libraries used by Data Scientists include:\n",
    "1. Pandas\n",
    "2. NumPy\n",
    "3. Matplotlib\n",
    "4. Scikit-Learn"
   ]
  },
  {
   "cell_type": "markdown",
   "id": "ae5926ec-bac0-4b04-b0ca-346f90d0086d",
   "metadata": {},
   "source": [
    "| Data Science Tools       |\n",
    "|--------------------------|\n",
    "| Jupyter Notebook         |\n",
    "| RStudio                  |\n",
    "| Apache Spark             |"
   ]
  },
  {
   "cell_type": "markdown",
   "id": "39115753-41b5-4e88-8b7e-ae60825464ad",
   "metadata": {},
   "source": [
    "### Below are a few examples of evaluating arithmetic expressions in Python"
   ]
  },
  {
   "cell_type": "code",
   "execution_count": null,
   "id": "7d98590d-99df-4eb8-937c-a06b1d108ed4",
   "metadata": {},
   "outputs": [],
   "source": [
    "# This a simple arithmetic expression to mutiply then add integers.\n",
    "(3*4)+5"
   ]
  },
  {
   "cell_type": "code",
   "execution_count": null,
   "id": "8b1f3238-2f05-418d-b200-fa4b67ef8191",
   "metadata": {},
   "outputs": [],
   "source": [
    "# This will convert 200 minutes to hours by diving by 60\n",
    "min = 200\n",
    "hours = 200 // 60\n",
    "min = 200 % 60\n",
    "print(str(hours) + \":\" + str(min))"
   ]
  },
  {
   "cell_type": "markdown",
   "id": "14a25ffe-70ff-43e2-b0fc-6b09806a811d",
   "metadata": {},
   "source": [
    "## Author\n",
    "\n",
    "Marin Postolachi"
   ]
  }
 ],
 "metadata": {
  "kernelspec": {
   "display_name": "Python 3",
   "language": "python",
   "name": "python3"
  },
  "language_info": {
   "codemirror_mode": {
    "name": "ipython",
    "version": 3
   },
   "file_extension": ".py",
   "mimetype": "text/x-python",
   "name": "python",
   "nbconvert_exporter": "python",
   "pygments_lexer": "ipython3",
   "version": "3.12.3"
  }
 },
 "nbformat": 4,
 "nbformat_minor": 5
}
